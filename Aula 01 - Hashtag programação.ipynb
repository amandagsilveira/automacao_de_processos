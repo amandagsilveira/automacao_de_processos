{
 "cells": [
  {
   "cell_type": "markdown",
   "id": "145b8ccd",
   "metadata": {},
   "source": [
    "    Projeto Automação de Sistemas e Processos com Python\n",
    "    \n",
    "Desafio:\n",
    "Todos os dias, o nosso sistema atualiza as vendas do dia anterior. O seu trabalho diário, como analista, é enviar um e-mail para a diretoria, assim que começar a trabalhar, com o faturamento e a quantidade de produtos vendidos no dia anterior\n",
    "\n",
    "E-mail da diretoria: seugmail+diretoria@gmail.com\n",
    "Local onde o sistema disponibiliza as vendas do dia anterior: https://drive.google.com/drive/folders/149xknr9JvrlEnhNWO49zPcw0PW5icxga?usp=sharing\n",
    "\n",
    "Para resolver isso, vamos usar o pyautogui, uma biblioteca de automação de comandos do mouse e do teclado"
   ]
  },
  {
   "cell_type": "code",
   "execution_count": null,
   "id": "445fa17e",
   "metadata": {},
   "outputs": [],
   "source": [
    "import pyautogui\n",
    "import pyperclip #ele ajuda o pyautogui a colocar os caracteres\n",
    "from time import sleep\n",
    "\n",
    "pyautogui.PAUSE\n",
    "\n",
    "# Passo 1: Abre o navegador (entrar no link)\n",
    "\n",
    "pyautogui.press('win')\n",
    "sleep(2)\n",
    "pyautogui.write('google chrome')\n",
    "sleep(2)\n",
    "pyautogui.press('enter')\n",
    "sleep(2)\n",
    "link = 'https://drive.google.com/drive/folders/149xknr9JvrlEnhNWO49zPcw0PW5icxga?usp=sharing'\n",
    "pyperclip.copy(link)\n",
    "pyautogui.hotkey('ctrl', 'v') #hotkey é usado para uma combinação de teclas\n",
    "pyautogui.press('enter')\n",
    "sleep(5)\n",
    "\n",
    "# Passo 2: Entrar na pasta onde está o arquivo\n",
    "\n",
    "pyautogui.click(x=473, y=389, clicks=2)\n",
    "sleep(3)\n",
    "\n",
    "# Passo 3: Baixar arquivos\n",
    "\n",
    "pyautogui.click(x=454, y=488)\n",
    "sleep(3)\n",
    "pyautogui.click(x=1434, y=259)\n",
    "sleep(3)\n",
    "pyautogui.click(x=1190, y=778)\n",
    "sleep(3)\n",
    "\n",
    "\n",
    "# Passo 4: Calcular faturamento e quantidade e produtos vendidos\n",
    "\n",
    "import pandas as pd #o pandas é utilizado para trabalhar com análise de dados\n",
    "\n",
    "tabela = pd.read_excel(r'C:\\Users\\Amanda\\Downloads\\Vendas - Dez.xlsx')\n",
    "faturamento = tabela['Valor Final'].sum() \n",
    "quantidade = tabela['Quantidade'].sum()\n",
    "display(tabela)\n",
    "\n",
    "# Passo 5: Enviar email para a diretoria\n",
    "pyautogui.hotkey('ctrl', 't')\n",
    "linkemail = 'https://mail.google.com/'\n",
    "sleep(2)\n",
    "pyperclip.copy(linkemail)\n",
    "pyautogui.hotkey('ctrl', 'v') #hotkey é usado para uma combinação de teclas\n",
    "pyautogui.press('enter')\n",
    "sleep(5)\n",
    "\n",
    "pyautogui.click(x=325, y=282)\n",
    "sleep(2)\n",
    "pyautogui.write('teste@gmail.com')\n",
    "pyautogui.press('tab') #escolhe o email\n",
    "sleep(2)\n",
    "\n",
    "pyautogui.press('tab') #passa para assunto\n",
    "assunto = 'Relatório de Vendas -Teste'\n",
    "pyperclip.copy(assunto)\n",
    "pyautogui.hotkey('ctrl', 'v')\n",
    "sleep(2)\n",
    "\n",
    "pyautogui.press('tab')#passa para corpo de email\n",
    "texto = f'''\n",
    "Prezada, boa tarde!\n",
    "\n",
    "O faturamento foi de R${faturamento:.2f}\n",
    "E a quantidade de produtos foi R${quantidade:.2f}\n",
    "\n",
    "Abs, \n",
    "Amanda!'''\n",
    "\n",
    "pyautogui.write(texto)\n",
    "\n",
    "pyautogui.hotkey('ctrl', 'enter')\n"
   ]
  },
  {
   "cell_type": "markdown",
   "id": "8a6a52c1",
   "metadata": {},
   "source": []
  },
  {
   "cell_type": "markdown",
   "id": "9baca503",
   "metadata": {},
   "source": []
  },
  {
   "cell_type": "markdown",
   "id": "768f9e2f",
   "metadata": {},
   "source": []
  },
  {
   "cell_type": "code",
   "execution_count": null,
   "id": "3cc176b8",
   "metadata": {},
   "outputs": [],
   "source": []
  },
  {
   "cell_type": "code",
   "execution_count": null,
   "id": "8a576983",
   "metadata": {
    "scrolled": true
   },
   "outputs": [],
   "source": [
    "from time import sleep\n",
    "sleep(10)\n",
    "pyautogui.position()\n"
   ]
  },
  {
   "cell_type": "code",
   "execution_count": null,
   "id": "cbb97627",
   "metadata": {},
   "outputs": [],
   "source": []
  }
 ],
 "metadata": {
  "kernelspec": {
   "display_name": "Python 3",
   "language": "python",
   "name": "python3"
  },
  "language_info": {
   "codemirror_mode": {
    "name": "ipython",
    "version": 3
   },
   "file_extension": ".py",
   "mimetype": "text/x-python",
   "name": "python",
   "nbconvert_exporter": "python",
   "pygments_lexer": "ipython3",
   "version": "3.8.8"
  }
 },
 "nbformat": 4,
 "nbformat_minor": 5
}
